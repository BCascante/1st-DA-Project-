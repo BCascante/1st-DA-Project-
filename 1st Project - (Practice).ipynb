{
 "cells": [
  {
   "cell_type": "markdown",
   "metadata": {},
   "source": [
    "# Let's Start\n",
    "An e-commerce company, Store 1, recently began collecting data about its customers. Store 1's ultimate goal is to better understand their customers' behavior and make data-driven decisions to improve their online experience.\n",
    "\n",
    "As part of the analytics team, your first task is to assess the quality of a sample of collected data and prepare it for future analysis."
   ]
  },
  {
   "cell_type": "markdown",
   "metadata": {},
   "source": [
    "## Questionnaire\n",
    "Store 1 aims to ensure consistency in data collection. As part of this initiative, the quality of data collected on users must be assessed. You have been asked to review the data collected and propose changes. Below you will see data about a particular user; review the data and identify any potential problems."
   ]
  },
  {
   "cell_type": "code",
   "execution_count": 1,
   "metadata": {},
   "outputs": [],
   "source": [
    "user_id = '32415'\n",
    "user_name = ' mike_reed '\n",
    "user_age = 32.0\n",
    "fav_categories = ['ELECTRONICS', 'SPORT', 'BOOKS']"
   ]
  },
  {
   "cell_type": "markdown",
   "metadata": {},
   "source": [
    "Options:\n",
    "\n",
    "1. The data type for user_id should be changed from a string to an integer.\n",
    "\n",
    "2. The user_name variable contains a string that has unnecessary spaces and an underscore between the first and last name.\n",
    "\n",
    "3. The data type of user_age is incorrect.\n",
    "\n",
    "4. The fav_categories list contains uppercase strings. We should convert the list values to lowercase instead."
   ]
  },
  {
   "cell_type": "markdown",
   "metadata": {},
   "source": [
    "#### Write your answer and explain your argument\n",
    "2,3,4 I consider that these options can become problems in future analysis processes since they are with the wrong data type.\n",
    "\n",
    "The problems that can arise in a Python code when using incorrect data types and having incorrectly formatted data are several and can affect the functionality, readability, and quality of the code. Incorrect data types can be problematic for the following reasons:\n",
    "\n",
    "Runtime errors, when a specific data type is expected in an operation or function, using an incorrect type can lead to runtime errors.\n",
    "Incompatibility with other parts of the code, incorrect data types can cause parts of the code to not work well together.\n",
    "Reduced readability, using incorrect data types makes the code less readable and understandable, making collaboration and long-term maintenance difficult.\n",
    "\n",
    "Improperly formatted data, such as unnecessary spaces and unwanted characters in strings, as well as strings in uppercase instead of lowercase, can also cause problems:\n",
    "\n",
    "Errors in program logic, incorrectly formatted data can lead to errors in program logic. For example, if the first and last name in user_name were expected to be separated by a space and an underscore, any other formatting could lead to problems when trying to extract the first or last name.\n",
    "\n",
    "Data inconsistencies, if the data is poorly formatted, it is more difficult to ensure consistency and data quality. This can lead to unexpected or incorrect results in the program.\n",
    "\n",
    "Difficulties in searching and processing data, the fact that fav_categories contains uppercase strings can make it difficult to search and process data, as it is more difficult to compare them or perform case-sensitive searches."
   ]
  },
  {
   "cell_type": "markdown",
   "metadata": {},
   "source": [
    "# Exercise 1\n",
    "Let's implement the changes we identified. First, we need to correct the problems with the user_name variable. As we saw, it has unnecessary spaces and an underscore as a separator between the first and last name; your goal is to remove the spaces and then replace the underscore with the space."
   ]
  },
  {
   "cell_type": "code",
   "execution_count": 2,
   "metadata": {},
   "outputs": [],
   "source": [
    "# Get rid of the unnecessary spaces \n",
    "user_name = user_name.strip()\n",
    "user_name = user_name.replace('_', \" \")\n"
   ]
  },
  {
   "cell_type": "markdown",
   "metadata": {},
   "source": [
    "# Exercise 2\n",
    "Next, we must split the updated user_name into two substrings to obtain a list containing two values: the string for the first name and the string for the last name."
   ]
  },
  {
   "cell_type": "code",
   "execution_count": 3,
   "metadata": {},
   "outputs": [
    {
     "name": "stdout",
     "output_type": "stream",
     "text": [
      "['mike', 'reed']\n"
     ]
    }
   ],
   "source": [
    "name_split = user_name.split()\n",
    "print(name_split)"
   ]
  },
  {
   "cell_type": "markdown",
   "metadata": {},
   "source": [
    "# Exercise 3\n",
    "Great! Now we have to work with the user_age variable. As we already mentioned, it has an incorrect data type. Let's fix this problem by transforming the data type and displaying the final result."
   ]
  },
  {
   "cell_type": "code",
   "execution_count": 4,
   "metadata": {},
   "outputs": [
    {
     "name": "stdout",
     "output_type": "stream",
     "text": [
      "<class 'int'>\n"
     ]
    }
   ],
   "source": [
    "# Turn the user age to the right data type\n",
    "user_age = int(user_age)\n",
    "print(type(user_age))"
   ]
  },
  {
   "cell_type": "markdown",
   "metadata": {},
   "source": [
    "# Exercise 4\n",
    "As we know, data is not always perfect. We must consider scenarios where the value of user_age cannot be converted to an integer. To prevent our system from crashing, we must take action in advance.\n",
    "\n",
    "Write code that attempts to convert the user_age variable to an integer and assigns the transformed value to user_age_int. If the attempt fails, we display a message asking the user to provide his or her age as a numerical value with the message: Please provide your age as a numerical value."
   ]
  },
  {
   "cell_type": "code",
   "execution_count": 5,
   "metadata": {},
   "outputs": [
    {
     "name": "stdout",
     "output_type": "stream",
     "text": [
      "Please provide your age as a numerical value\n"
     ]
    }
   ],
   "source": [
    "age = 'twenty two'\n",
    "\n",
    "try: \n",
    "    user_age_int = int(age)\n",
    "    print(user_age_int)\n",
    "except: \n",
    "    print('Please provide your age as a numerical value')"
   ]
  },
  {
   "cell_type": "markdown",
   "metadata": {},
   "source": [
    "# Exercise 5\n",
    "Finally, consider that all favorite categories are stored in uppercase. To fill a new list called fav_categories_low with the same categories, but in lowercase, iterate the values in the fav_categories list, modify them and add the new values to the fav_categories_low list. As always, display the final result.\n"
   ]
  },
  {
   "cell_type": "code",
   "execution_count": 6,
   "metadata": {},
   "outputs": [
    {
     "name": "stdout",
     "output_type": "stream",
     "text": [
      "['electronics', 'sport', 'books']\n"
     ]
    }
   ],
   "source": [
    "fav_categories_low = []\n",
    "\n",
    "for i in fav_categories:\n",
    "    i = i.lower()\n",
    "    fav_categories_low.append(i)\n",
    "\n",
    "print(fav_categories_low)"
   ]
  },
  {
   "cell_type": "markdown",
   "metadata": {},
   "source": [
    "# Exercise 6\n",
    "We have obtained additional information on the spending habits of our users, including the amount spent in each of their favorite categories. Management is interested in the following metrics:\n",
    "\n",
    "Total amount spent by the user.\n",
    "Minimum amount spent.\n",
    "Maximum amount spent.\n",
    "Let's calculate these values and display them on the screen:"
   ]
  },
  {
   "cell_type": "code",
   "execution_count": 7,
   "metadata": {},
   "outputs": [
    {
     "name": "stdout",
     "output_type": "stream",
     "text": [
      "Total amount spent: 1280.00\n",
      "Minimum amount spent: 173.00\n",
      "Maximum amount spent: 894.00\n"
     ]
    }
   ],
   "source": [
    "spendings_per_category = [894, 213, 173]\n",
    "\n",
    "total_amount = sum(spendings_per_category)\n",
    "print(f\"Total amount spent: {total_amount:.2f}\")\n",
    "\n",
    "minimum_amount = min(spendings_per_category)\n",
    "print(f\"Minimum amount spent: {minimum_amount:.2f}\")\n",
    "\n",
    "maximum_amount = max(spendings_per_category)\n",
    "print(f\"Maximum amount spent: {maximum_amount:.2f}\")"
   ]
  },
  {
   "cell_type": "markdown",
   "metadata": {},
   "source": [
    "# Exercise 7\n",
    "The company wants to offer discounts to its loyal customers. Customers who make purchases totaling more than $1500 are considered loyal and will receive a discount.\n",
    "\n",
    "Our goal is to create a while loop that checks the total amount spent and stops when it is reached. To simulate new purchases, the variable new_purchase generates a number between 30 and 80 at each iteration of the loop. This represents the amount of money spent on a new purchase and is what needs to be added to the total.\n",
    "\n",
    "Once the target amount is reached and the while loop is completed, the final amount will be displayed."
   ]
  },
  {
   "cell_type": "code",
   "execution_count": 8,
   "metadata": {},
   "outputs": [
    {
     "name": "stdout",
     "output_type": "stream",
     "text": [
      "Purchase: $37, Total: $37\n",
      "Purchase: $68, Total: $105\n",
      "Purchase: $33, Total: $138\n",
      "Purchase: $48, Total: $186\n",
      "Purchase: $53, Total: $239\n",
      "Purchase: $70, Total: $309\n",
      "Purchase: $34, Total: $343\n",
      "Purchase: $80, Total: $423\n",
      "Purchase: $42, Total: $465\n",
      "Purchase: $66, Total: $531\n",
      "Purchase: $56, Total: $587\n",
      "Purchase: $56, Total: $643\n",
      "Purchase: $33, Total: $676\n",
      "Purchase: $40, Total: $716\n",
      "Purchase: $57, Total: $773\n",
      "Purchase: $70, Total: $843\n",
      "Purchase: $34, Total: $877\n",
      "Purchase: $65, Total: $942\n",
      "Purchase: $76, Total: $1018\n",
      "Purchase: $75, Total: $1093\n",
      "Purchase: $74, Total: $1167\n",
      "Purchase: $78, Total: $1245\n",
      "Purchase: $63, Total: $1308\n",
      "Purchase: $31, Total: $1339\n",
      "Purchase: $72, Total: $1411\n",
      "Purchase: $39, Total: $1450\n",
      "Purchase: $78, Total: $1528\n"
     ]
    }
   ],
   "source": [
    "import random as r \n",
    "\n",
    "total = 0\n",
    "target_amount = 1500\n",
    "\n",
    "while total < target_amount: \n",
    "    new_purchase = r.randint(30,80)\n",
    "    total += new_purchase\n",
    "    print(f\"Purchase: ${new_purchase}, Total: ${total}\")\n"
   ]
  },
  {
   "cell_type": "markdown",
   "metadata": {},
   "source": [
    "# Exercise 8\n",
    "We now have all the information about a customer the way we want it to be. The management of a company asked us to propose a way to summarize all the information about a user. Your goal is to create a formatted string that uses information from the user_id, user_name and user_age variables.\n",
    "\n",
    "This is the final string that we want to create: User 32415 is mike who is 32 years old."
   ]
  },
  {
   "cell_type": "code",
   "execution_count": 9,
   "metadata": {},
   "outputs": [
    {
     "name": "stdout",
     "output_type": "stream",
     "text": [
      "User 32415 is mike who is 32 years old\n"
     ]
    }
   ],
   "source": [
    "user_info = f'User {user_id} is {name_split[0]} who is {user_age} years old'\n",
    "print(user_info)"
   ]
  },
  {
   "cell_type": "markdown",
   "metadata": {},
   "source": [
    "# Exercise 9\n",
    "To calculate the company's revenue, follow these steps.\n",
    "\n",
    "1. Use for to iterate over the users list.\n",
    "2. Extract the expense list for each user and sum the values.\n",
    "3. Update the revenue value with the total for each user.\n",
    "4. This way you will get the total income of the company that you will show on the screen at the end."
   ]
  },
  {
   "cell_type": "code",
   "execution_count": 10,
   "metadata": {},
   "outputs": [
    {
     "name": "stdout",
     "output_type": "stream",
     "text": [
      "2109\n"
     ]
    }
   ],
   "source": [
    "users = [\n",
    "\t  # Start of the first sublist \n",
    "    ['32415', ['mike', 'reed'], 32, ['electronics', 'sport', 'books'],\n",
    "        [894, 213, 173]\n",
    "    ], # End of the first sublist \n",
    "\n",
    "    # Start of the second sublist \n",
    "    ['31980', ['kate', 'morgan'], 24, ['clothes', 'shoes'],\n",
    "        [439, 390]\n",
    "    ] # End of the second sublist \n",
    "]\n",
    "\n",
    "revenue = 0 \n",
    "\n",
    "for user in users:\n",
    "    spending_list = user[4] # Get the spends values for each user \n",
    "    spend = sum(spending_list) # Sum the values \n",
    "    revenue += spend # Add the sum of the values to the total revenue\n",
    "\n",
    "print(revenue)"
   ]
  },
  {
   "cell_type": "markdown",
   "metadata": {},
   "source": [
    "# Exercise 10 \n",
    "Scroll through the list of users we have provided and display the names of the clientele under 30 years of age."
   ]
  },
  {
   "cell_type": "code",
   "execution_count": 11,
   "metadata": {},
   "outputs": [
    {
     "name": "stdout",
     "output_type": "stream",
     "text": [
      "['kate', 'morgan']\n",
      "['samantha', 'smith']\n",
      "['emily', 'brown']\n",
      "['jose', 'martinez']\n",
      "['james', 'lee']\n"
     ]
    }
   ],
   "source": [
    "users = [\n",
    "    ['32415', ['mike', 'reed'], 32, ['electronics', 'sport', 'books'],\n",
    "     [894, 213, 173]],\n",
    "    ['31980', ['kate', 'morgan'], 24, ['clothes', 'books'], [439,\n",
    "     390]],\n",
    "    ['32156', ['john', 'doe'], 37, ['electronics', 'home', 'food'],\n",
    "     [459, 120, 99]],\n",
    "    ['32761', ['samantha', 'smith'], 29, ['clothes', 'electronics',\n",
    "     'beauty'], [299, 679, 85]],\n",
    "    ['32984', ['david', 'white'], 41, ['books', 'home', 'sport'], [234,\n",
    "     329, 243]],\n",
    "    ['33001', ['emily', 'brown'], 26, ['beauty', 'home', 'food'], [213,\n",
    "     659, 79]],\n",
    "    ['33767', ['maria', 'garcia'], 33, ['clothes', 'food', 'beauty'],\n",
    "     [499, 189, 63]],\n",
    "    ['33912', ['jose', 'martinez'], 22, ['sport', 'electronics', 'home'\n",
    "     ], [259, 549, 109]],\n",
    "    ['34009', ['lisa', 'wilson'], 35, ['home', 'books', 'clothes'],\n",
    "     [329, 189, 329]],\n",
    "    ['34278', ['james', 'lee'], 28, ['beauty', 'clothes', 'electronics'\n",
    "     ], [189, 299, 579]],\n",
    "    ]\n",
    "\n",
    "for user in users: \n",
    "    if user[2] < 30:\n",
    "        print(user[1])"
   ]
  },
  {
   "cell_type": "markdown",
   "metadata": {},
   "source": [
    "# Exercise 11\n",
    "Let's put tasks 9 and 10 together and print the names of the users who are under 30 years old and have a total expenditure of more than $1,000."
   ]
  },
  {
   "cell_type": "code",
   "execution_count": 12,
   "metadata": {},
   "outputs": [
    {
     "name": "stdout",
     "output_type": "stream",
     "text": [
      "['samantha', 'smith']\n",
      "['james', 'lee']\n"
     ]
    }
   ],
   "source": [
    "for user in users: \n",
    "    if user[2] < 30 and sum(user[4]) > 1000:\n",
    "        print(user[1])"
   ]
  },
  {
   "cell_type": "markdown",
   "metadata": {},
   "source": [
    "# Exercise 12\n",
    "Now we are going to show the name and age of all the users and all the users who have bought clothes. Print the name and age in the same print statement."
   ]
  },
  {
   "cell_type": "code",
   "execution_count": 13,
   "metadata": {},
   "outputs": [
    {
     "name": "stdout",
     "output_type": "stream",
     "text": [
      "The user is ['kate', 'morgan'] of 24 of age\n",
      "The user is ['samantha', 'smith'] of 29 of age\n",
      "The user is ['maria', 'garcia'] of 33 of age\n",
      "The user is ['lisa', 'wilson'] of 35 of age\n",
      "The user is ['james', 'lee'] of 28 of age\n"
     ]
    }
   ],
   "source": [
    "for user in users: \n",
    "    if 'clothes' in user[3]:\n",
    "        print(f'The user is {user[1]} of {user[2]} of age')"
   ]
  }
 ],
 "metadata": {
  "kernelspec": {
   "display_name": "Python 3",
   "language": "python",
   "name": "python3"
  },
  "language_info": {
   "codemirror_mode": {
    "name": "ipython",
    "version": 3
   },
   "file_extension": ".py",
   "mimetype": "text/x-python",
   "name": "python",
   "nbconvert_exporter": "python",
   "pygments_lexer": "ipython3",
   "version": "3.12.0"
  }
 },
 "nbformat": 4,
 "nbformat_minor": 2
}
